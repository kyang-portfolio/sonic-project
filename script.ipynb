{
  "imports": [
    "import pandas as pd",
    "import openai"
  ],
  "api_key_setup": {
    "openai.api_key": "sk-proj-jxgFbiIciBRUw8LlhkWfT3BlbkFJmII8fCZUc6zDkDtQSfKt"
  },
  "functions": {
    "get_completion": {
      "description": "Function to get a completion",
      "code": [
        "def get_completion(messages, model='gpt-3.5-turbo'):",
        "    response = openai.ChatCompletion.create(",
        "        model=model,",
        "        messages=messages,",
        "        temperature=0,",
        "    )",
        "    return response['choices'][0]['message']['content']"
      ]
    },
    "read_messages_from_csv": {
      "description": "Function to read messages from a CSV file into a DataFrame",
      "code": [
        "def read_messages_from_csv(file_path):",
        "    return pd.read_csv(file_path)"
      ]
    }
  },
  "file_path": {
    "description": "File path to the CSV file",
    "path": "/Users/katherineyang/Downloads/unlabeled.csv"
  },
  "initialization": {
    "system_message": {
      "role": "system",
      "content": "You are a recipient labeler. The objective is to accurately label the receiver(s) of each message in a transcript, based on the context provided. Always ONLY consider the preceding messages to maintain the context. DO NOT look at the messages following a given message to determine the intended recipient, as this can introduce bias. Label intended recipients solely based on the current and previous messages only. Consistently check and compare with previous labels to ensure uniformity in labeling."
    },
    "previous_batch_messages": []
  },
  "batch_processing": {
    "description": "Process messages in chunks of 30, using the last 5 messages of the previous batch for context",
    "batch_size": 30,
    "lookback_size": 5,
    "num_batches": "len(df) // batch_size + (1 if len(df) % batch_size != 0 else 0)",
    "code": [
      "for batch_num in range(num_batches):",
      "    start_idx = batch_num * batch_size",
      "    end_idx = min(start_idx + batch_size, len(df))",
      "    batch_messages = df.iloc[start_idx:end_idx]",
      "    user_messages = [{'role': 'user', 'content': f\"User: {row['user']}, Text: '{row['text']}', To: '{row['to']}'\"} for _, row in batch_messages.iterrows()]",
      "    if batch_num > 0:",
      "        current_conversation = previous_batch_messages[-lookback_size:] + user_messages",
      "    else:",
      "        current_conversation = user_messages",
      "    current_conversation = [system_message] + current_conversation",
      "    for i, message in enumerate(user_messages):",
      "        current_conversation_so_far = current_conversation[:i+2]",
      "        if start_idx == 0 and i == 0:",
      "            label = 'all'",
      "        else:",
      "            label = get_completion(current_conversation_so_far)",
      "        print(f'Labeled Message {start_idx + i + 1}: {label}')",
      "    previous_batch_messages = user_messages"
    ]
  }
}
