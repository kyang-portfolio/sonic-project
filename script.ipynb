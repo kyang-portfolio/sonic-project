%pip install openai python-dotenv

import os
import getpass
import json
import openai
from collections import defaultdict
import numpy as np 
from rich.console import Console 
from rich.table import Table

import openai
import csv

# Set API key
openai.api_key = "sk-proj-jxgFbiIciBRUw8LlhkWfT3BlbkFJmII8fCZUc6zDkDtQSfKt"

# Function to get a completion
def get_completion(messages, model="gpt-3.5-turbo"):
    response = openai.ChatCompletion.create(
        model=model,
        messages=messages,
        temperature=0,
    )
    return response['choices'][0]['message']['content']

# Function to read messages from a CSV file
def read_messages_from_csv(file_path):
    messages = []
    with open(file_path, newline='') as csvfile:
        reader = csv.DictReader(csvfile)
        for row in reader:
            message_content = f"User: {row['user']}, Text: '{row['text']}, To: '{row['to']}'"
            messages.append({"role": "user", "content": message_content})
    
    return messages

# File path to CSV file
file_path = '/Users/katherineyang/Downloads/test.csv' 

# Read messages from the CSV file
user_messages = read_messages_from_csv(file_path)

# Initialize the system message
my_messages = [
    {"role": "system", "content": "You are a recipient labeler. The objective is to accurately label the receiver(s) of each message in a transcript, \
    based on the context provided. Always ONLY consider the preceding messages to maintain the context. \
    DO NOT look at the messages following a given message to determine the intended recipient, as this can introduce bias. \
    Label intended recipients solely based on the current and previous messages only. \
    Consistently check and compare with previous labels to ensure uniformity in labeling."}
]

# Process each message and print the labeled recipients
for i in range(len(user_messages)):
    current_conversation = my_messages + user_messages[:i+1]  # Include system message and current history
    label = get_completion(current_conversation)
    print(f"Labeled Message {i+1}: {label}")
